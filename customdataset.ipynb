{
  "nbformat": 4,
  "nbformat_minor": 0,
  "metadata": {
    "colab": {
      "provenance": [],
      "name": "customdataset.ipynb",
      "include_colab_link": true
    },
    "kernelspec": {
      "name": "python3",
      "display_name": "Python 3"
    },
    "language_info": {
      "name": "python"
    }
  },
  "cells": [
    {
      "cell_type": "markdown",
      "metadata": {
        "id": "view-in-github",
        "colab_type": "text"
      },
      "source": [
        "<a href=\"https://colab.research.google.com/github/srilavanyasubramanian/srilavanyasubramanian/blob/main/customdataset.ipynb\" target=\"_parent\"><img src=\"https://colab.research.google.com/assets/colab-badge.svg\" alt=\"Open In Colab\"/></a>"
      ]
    },
    {
      "cell_type": "code",
      "execution_count": null,
      "metadata": {
        "id": "NO1yN1XUXPer"
      },
      "outputs": [],
      "source": [
        "import tensorflow as tf\n",
        "from tensorflow.keras import layers, models\n",
        "from google.colab import drive\n"
      ]
    },
    {
      "cell_type": "code",
      "source": [
        "# Mount Google Drive to access your dataset\n",
        "drive.mount('/content/drive')\n",
        "dataset_path = '/content/drive/My Drive/content/krishnajpg.jpg'"
      ],
      "metadata": {
        "id": "jiWay3SLYJ1L"
      },
      "execution_count": null,
      "outputs": []
    },
    {
      "cell_type": "code",
      "source": [
        "import numpy as np\n",
        "data = np.load(dataset_path)"
      ],
      "metadata": {
        "id": "BdXevGnDYNJL"
      },
      "execution_count": null,
      "outputs": []
    },
    {
      "cell_type": "code",
      "source": [
        "x_train = data[:int(0.8 * len(data))]  # 80% for training\n",
        "x_test = data[int(0.8 * len(data)):]   # 20% for testing\n"
      ],
      "metadata": {
        "id": "nFqwevsDYQFI"
      },
      "execution_count": null,
      "outputs": []
    },
    {
      "cell_type": "code",
      "source": [
        "# Normalize data to [0, 1] range\n",
        "x_train = x_train.astype('float32') / 255.0\n",
        "x_test = x_test.astype('float32') / 255.0\n"
      ],
      "metadata": {
        "id": "oaAPM_AlYYOT"
      },
      "execution_count": null,
      "outputs": []
    },
    {
      "cell_type": "code",
      "source": [
        "# Define the autoencoder model\n",
        "input_shape = x_train.shape[1:]\n",
        "autoencoder = models.Sequential()\n"
      ],
      "metadata": {
        "id": "mP3dTD79YatI"
      },
      "execution_count": null,
      "outputs": []
    },
    {
      "cell_type": "code",
      "source": [
        "# Encoder\n",
        "autoencoder.add(layers.Input(shape=input_shape))\n",
        "autoencoder.add(layers.Conv2D(32, (3, 3), activation='relu', padding='same'))\n",
        "autoencoder.add(layers.MaxPooling2D((2, 2), padding='same'))\n"
      ],
      "metadata": {
        "id": "MiqWW67NYfYO"
      },
      "execution_count": null,
      "outputs": []
    },
    {
      "cell_type": "code",
      "source": [
        "# Decoder\n",
        "autoencoder.add(layers.Conv2D(32, (3, 3), activation='relu', padding='same'))\n",
        "autoencoder.add(layers.UpSampling2D((2, 2)))\n",
        "autoencoder.add(layers.Conv2D(input_shape[-1], (3, 3), activation='sigmoid', padding='same'))\n",
        "\n",
        "autoencoder.compile(optimizer='adam', loss='binary_crossentropy')\n"
      ],
      "metadata": {
        "id": "QnnYkompYqug"
      },
      "execution_count": null,
      "outputs": []
    },
    {
      "cell_type": "code",
      "source": [
        "\n",
        "# Train the autoencoder\n",
        "autoencoder.fit(x_train, x_train, epochs=10, batch_size=64, validation_data=(x_test, x_test))"
      ],
      "metadata": {
        "id": "Lv3vxDnKMszk"
      },
      "execution_count": null,
      "outputs": []
    },
    {
      "cell_type": "code",
      "source": [
        "# Use the trained autoencoder for encoding/decoding\n",
        "encoded_images = autoencoder.predict(x_test)\n"
      ],
      "metadata": {
        "id": "x8NgaZUEM6D0"
      },
      "execution_count": null,
      "outputs": []
    }
  ]
}