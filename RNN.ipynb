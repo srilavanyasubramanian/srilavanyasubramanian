{
  "nbformat": 4,
  "nbformat_minor": 0,
  "metadata": {
    "colab": {
      "provenance": [],
      "gpuType": "T4",
      "authorship_tag": "ABX9TyNysvYK+P7RRoNv+dGZd+rO",
      "include_colab_link": true
    },
    "kernelspec": {
      "name": "python3",
      "display_name": "Python 3"
    },
    "language_info": {
      "name": "python"
    },
    "accelerator": "GPU"
  },
  "cells": [
    {
      "cell_type": "markdown",
      "metadata": {
        "id": "view-in-github",
        "colab_type": "text"
      },
      "source": [
        "<a href=\"https://colab.research.google.com/github/srilavanyasubramanian/srilavanyasubramanian/blob/main/RNN.ipynb\" target=\"_parent\"><img src=\"https://colab.research.google.com/assets/colab-badge.svg\" alt=\"Open In Colab\"/></a>"
      ]
    },
    {
      "cell_type": "code",
      "execution_count": 1,
      "metadata": {
        "id": "fsSg_w8YILQw"
      },
      "outputs": [],
      "source": [
        "import numpy as np"
      ]
    },
    {
      "cell_type": "code",
      "source": [
        "class SimpleRnn:\n",
        "  def __init__(self,input_size,hidden_size,output_size):\n",
        "    self.hidden_size = hidden_size\n",
        "    self.wx = np.random.randn(hidden_size,input_size)\n",
        "    self.wh = np.random.randn(hidden_size,hidden_size)\n",
        "    self.wy = np.random.randn(hidden_size,output_size)\n",
        "    self.bh = np.zeros((1,hidden_size))\n",
        "    self.by = np.zeros((1,output_size))\n",
        "\n",
        "    def forward(self,inputs):\n",
        "      h = np.zeros((input.shape[0],self.hidden_size))\n",
        "      outputs = []\n",
        "      for t in range(inputs.shape[1]):\n",
        "        h = np.tanh(np.dot(inputs[:,t,:],self.wx) + np.dot(h,self.wh) + self.bh)\n",
        "        y = np.dot(h,self.wy) +self.by\n",
        "        outputs.append(y)\n",
        "      return np.array(outputs),h\n",
        "      inputs = np.random.randn(5,10,8)\n",
        "      rnn = SimpleRnn(input_size=8,hidden_size=5,output_size=3)\n",
        "      outputs,h = rnn.forward(inputs)\n",
        "      print(outputs.shape)\n",
        "      print(h.shape)"
      ],
      "metadata": {
        "colab": {
          "base_uri": "https://localhost:8080/",
          "height": 106
        },
        "id": "Mh5zkeTzIQok",
        "outputId": "7c6a4fdb-f84c-44dd-8b35-74f4a4c83988"
      },
      "execution_count": 1,
      "outputs": [
        {
          "output_type": "error",
          "ename": "IndentationError",
          "evalue": "expected an indented block after class definition on line 1 (ipython-input-3408737379.py, line 4)",
          "traceback": [
            "\u001b[0;36m  File \u001b[0;32m\"/tmp/ipython-input-3408737379.py\"\u001b[0;36m, line \u001b[0;32m4\u001b[0m\n\u001b[0;31m    def __init__(self,input_size,hidden_size,output_size):\u001b[0m\n\u001b[0m    ^\u001b[0m\n\u001b[0;31mIndentationError\u001b[0m\u001b[0;31m:\u001b[0m expected an indented block after class definition on line 1\n"
          ]
        }
      ]
    },
    {
      "cell_type": "code",
      "source": [],
      "metadata": {
        "id": "mHybGA9OJfFF"
      },
      "execution_count": null,
      "outputs": []
    }
  ]
}