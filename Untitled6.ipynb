{
  "nbformat": 4,
  "nbformat_minor": 0,
  "metadata": {
    "colab": {
      "provenance": [],
      "toc_visible": true,
      "gpuType": "T4",
      "authorship_tag": "ABX9TyPw3aYRCeib3k92o9kVqaRG",
      "include_colab_link": true
    },
    "kernelspec": {
      "name": "python3",
      "display_name": "Python 3"
    },
    "language_info": {
      "name": "python"
    },
    "accelerator": "GPU"
  },
  "cells": [
    {
      "cell_type": "markdown",
      "metadata": {
        "id": "view-in-github",
        "colab_type": "text"
      },
      "source": [
        "<a href=\"https://colab.research.google.com/github/srilavanyasubramanian/srilavanyasubramanian/blob/main/Untitled6.ipynb\" target=\"_parent\"><img src=\"https://colab.research.google.com/assets/colab-badge.svg\" alt=\"Open In Colab\"/></a>"
      ]
    },
    {
      "cell_type": "code",
      "execution_count": 5,
      "metadata": {
        "id": "fsSg_w8YILQw"
      },
      "outputs": [],
      "source": [
        "import numpy as np"
      ]
    },
    {
      "cell_type": "code",
      "source": [
        "class SimpleRnn:\n",
        "  def __init__(self,input_size,hidden_size,output_size):\n",
        "    self.hidden_size = hidden_size\n",
        "    self.wx = np.random.randn(hidden_size,input_size)\n",
        "    self.wh = np.random.randn(hidden_size,hidden_size)\n",
        "    self.wy = np.random.randn(hidden_size,output_size)\n",
        "    self.bh = np.zeros((1,hidden_size))\n",
        "    self.by = np.zeros((1,output_size))\n",
        "\n",
        "    def forward(self,inputs):\n",
        "      h = np.zeros((input.shape[0],self.hidden_size))\n",
        "      outputs = []\n",
        "      for t in range(inputs.shape[1]):\n",
        "        h = np.tanh(np.dot(inputs[:,t,:],self.wx) + np.dot(h,self.wh) + self.bh)\n",
        "        y = np.dot(h,self.wy) +self.by\n",
        "        outputs.append(y)\n",
        "      return np.array(outputs),h\n",
        "      inputs = np.random.randn(5,10,8)\n",
        "      rnn = SimpleRnn(input_size=5,hidden_size=16,output_size=8)\n",
        "      outputs,h = rnn.forward(inputs)\n",
        "      print(outputs.shape)\n",
        "      print(h)"
      ],
      "metadata": {
        "id": "Mh5zkeTzIQok"
      },
      "execution_count": 7,
      "outputs": []
    },
    {
      "cell_type": "code",
      "source": [
        "import tensorflow as tf\n",
        "from tensorflow.keras.layers import SimpleRNN,Dense,Embedding\n",
        "from tensorflow.keras.models import Sequential\n",
        "import numpy as np\n"
      ],
      "metadata": {
        "id": "mHybGA9OJfFF"
      },
      "execution_count": 2,
      "outputs": []
    },
    {
      "cell_type": "code",
      "source": [
        "url ='https://gutenberg.org/files/100/100-0.txt'\n",
        "text_path  = tf.keras.utils.get_file('shakespeare.txt',url)\n"
      ],
      "metadata": {
        "colab": {
          "base_uri": "https://localhost:8080/"
        },
        "id": "2OgmuRhYbqNq",
        "outputId": "b214f998-cfa5-4dc8-829a-d1bd07c4dc2d"
      },
      "execution_count": 3,
      "outputs": [
        {
          "output_type": "stream",
          "name": "stdout",
          "text": [
            "Downloading data from https://gutenberg.org/files/100/100-0.txt\n",
            "\u001b[1m5422721/5422721\u001b[0m \u001b[32m━━━━━━━━━━━━━━━━━━━━\u001b[0m\u001b[37m\u001b[0m \u001b[1m0s\u001b[0m 0us/step\n"
          ]
        }
      ]
    },
    {
      "cell_type": "code",
      "source": [
        "text = open(text_path,'rb').read().decode(encoding='utf-8')"
      ],
      "metadata": {
        "id": "fU4P1zseetyW"
      },
      "execution_count": 4,
      "outputs": []
    },
    {
      "cell_type": "code",
      "source": [
        "vocab = sorted(set(text))\n"
      ],
      "metadata": {
        "id": "x8paCoXKxm2W"
      },
      "execution_count": null,
      "outputs": []
    }
  ]
}